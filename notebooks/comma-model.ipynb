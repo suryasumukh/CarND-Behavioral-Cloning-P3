{
 "cells": [
  {
   "cell_type": "code",
   "execution_count": 1,
   "metadata": {
    "collapsed": true
   },
   "outputs": [],
   "source": [
    "%load_ext autoreload\n",
    "%autoreload 2"
   ]
  },
  {
   "cell_type": "code",
   "execution_count": 2,
   "metadata": {
    "collapsed": true
   },
   "outputs": [],
   "source": [
    "%matplotlib inline\n",
    "from matplotlib import pyplot as plt\n",
    "\n",
    "from glob import glob\n",
    "import json\n",
    "import csv\n",
    "import os\n",
    "\n",
    "import cv2\n",
    "import numpy as np"
   ]
  },
  {
   "cell_type": "code",
   "execution_count": 31,
   "metadata": {},
   "outputs": [],
   "source": [
    "from keras.models import Model, Sequential\n",
    "from keras.layers import Input, Flatten, Dense\n",
    "from keras.layers import Conv2D, MaxPooling2D\n",
    "from keras.layers import Convolution2D\n",
    "from keras.layers import GlobalAveragePooling2D\n",
    "from keras.layers import LeakyReLU, ELU, Dropout"
   ]
  },
  {
   "cell_type": "code",
   "execution_count": 4,
   "metadata": {
    "collapsed": true
   },
   "outputs": [],
   "source": [
    "from keras.optimizers import Adam\n",
    "from keras.layers import Lambda\n",
    "from keras.callbacks import EarlyStopping, ModelCheckpoint"
   ]
  },
  {
   "cell_type": "code",
   "execution_count": 5,
   "metadata": {
    "collapsed": true
   },
   "outputs": [],
   "source": [
    "from utils import read_samples\n",
    "from utils import ImageGenerator\n",
    "from utils import CenterImageGenerator"
   ]
  },
  {
   "cell_type": "code",
   "execution_count": 6,
   "metadata": {
    "collapsed": true
   },
   "outputs": [],
   "source": [
    "from sklearn.model_selection import train_test_split"
   ]
  },
  {
   "cell_type": "code",
   "execution_count": 7,
   "metadata": {
    "collapsed": true
   },
   "outputs": [],
   "source": [
    "ROOT_DIR = os.path.join(os.getcwd(), '../')\n",
    "DATA_DIR = os.path.join(ROOT_DIR, 'data')"
   ]
  },
  {
   "cell_type": "code",
   "execution_count": 15,
   "metadata": {},
   "outputs": [
    {
     "name": "stdout",
     "output_type": "stream",
     "text": [
      "Loaded 8037 samples.\n"
     ]
    },
    {
     "data": {
      "text/plain": [
       "['center', 'left', 'right', 'steering', 'throttle', 'brake', 'speed']"
      ]
     },
     "execution_count": 15,
     "metadata": {},
     "output_type": "execute_result"
    }
   ],
   "source": [
    "samples = read_samples(DATA_DIR)\n",
    "samples.pop(0)"
   ]
  },
  {
   "cell_type": "code",
   "execution_count": 16,
   "metadata": {
    "collapsed": true
   },
   "outputs": [],
   "source": [
    "def append_path(line):\n",
    "    line[0] = os.path.join(DATA_DIR, 'sample-data', line[0].strip())\n",
    "    line[1] = os.path.join(DATA_DIR, 'sample-data', line[1].strip())\n",
    "    line[2] = os.path.join(DATA_DIR, 'sample-data', line[2].strip())\n",
    "    return line"
   ]
  },
  {
   "cell_type": "code",
   "execution_count": 17,
   "metadata": {
    "collapsed": true
   },
   "outputs": [],
   "source": [
    "samples = [append_path(line) for line in samples]"
   ]
  },
  {
   "cell_type": "code",
   "execution_count": 18,
   "metadata": {},
   "outputs": [
    {
     "data": {
      "text/plain": [
       "['/home/carnd/CarND-Behavioral-Cloning-P3/notebooks/../data/sample-data/IMG/center_2016_12_01_13_30_48_287.jpg',\n",
       " '/home/carnd/CarND-Behavioral-Cloning-P3/notebooks/../data/sample-data/IMG/left_2016_12_01_13_30_48_287.jpg',\n",
       " '/home/carnd/CarND-Behavioral-Cloning-P3/notebooks/../data/sample-data/IMG/right_2016_12_01_13_30_48_287.jpg',\n",
       " ' 0',\n",
       " ' 0',\n",
       " ' 0',\n",
       " ' 22.14829']"
      ]
     },
     "execution_count": 18,
     "metadata": {},
     "output_type": "execute_result"
    }
   ],
   "source": [
    "samples[0]"
   ]
  },
  {
   "cell_type": "code",
   "execution_count": 19,
   "metadata": {
    "collapsed": true
   },
   "outputs": [],
   "source": [
    "train_set, test_set = train_test_split(samples, test_size=0.2)\n",
    "train_set, valid_set = train_test_split(train_set, test_size=0.2)"
   ]
  },
  {
   "cell_type": "code",
   "execution_count": 80,
   "metadata": {
    "collapsed": true
   },
   "outputs": [],
   "source": [
    "train_iterator = ImageGenerator(train_set, batch_size=64, \n",
    "                                      flip=True, gray=False, left_corr=0.1, right_corr=0.1)\n",
    "valid_iterator = ImageGenerator(valid_set, batch_size=64, \n",
    "                                      flip=True, gray=False, left_corr=0.1, right_corr=0.1)\n",
    "test_iterator = CenterImageGenerator(test_set, batch_size=64, \n",
    "                                     gray=False)"
   ]
  },
  {
   "cell_type": "code",
   "execution_count": 81,
   "metadata": {
    "collapsed": true
   },
   "outputs": [],
   "source": [
    "def comma_model():\n",
    "    ch, row, col = 1, 160, 320  # camera format\n",
    "    model = Sequential()\n",
    "    model.add(Lambda(lambda x: x/127.5 - 1.,\n",
    "            input_shape=(row, col, ch),\n",
    "            output_shape=(row, col, ch)))\n",
    "    model.add(Conv2D(16, (8, 8), strides=(4, 4), padding=\"same\"))\n",
    "    model.add(ELU())\n",
    "    model.add(Conv2D(32, (5, 5), strides=(2, 2), padding=\"same\"))\n",
    "    model.add(ELU())\n",
    "    model.add(Conv2D(64, (5, 5), strides=(2, 2), padding=\"same\"))\n",
    "    model.add(Flatten())\n",
    "    model.add(Dropout(.2))\n",
    "    model.add(ELU())\n",
    "    model.add(Dense(512))\n",
    "    model.add(Dropout(.5))\n",
    "    model.add(ELU())\n",
    "    model.add(Dense(1))\n",
    "    model.compile(optimizer=\"adam\", loss=\"mse\")\n",
    "    return model"
   ]
  },
  {
   "cell_type": "code",
   "execution_count": 82,
   "metadata": {},
   "outputs": [],
   "source": [
    "model = comma_model()"
   ]
  },
  {
   "cell_type": "code",
   "execution_count": 83,
   "metadata": {},
   "outputs": [
    {
     "name": "stdout",
     "output_type": "stream",
     "text": [
      "_________________________________________________________________\n",
      "Layer (type)                 Output Shape              Param #   \n",
      "=================================================================\n",
      "lambda_12 (Lambda)           (None, 160, 320, 1)       0         \n",
      "_________________________________________________________________\n",
      "conv2d_29 (Conv2D)           (None, 40, 80, 16)        1040      \n",
      "_________________________________________________________________\n",
      "elu_37 (ELU)                 (None, 40, 80, 16)        0         \n",
      "_________________________________________________________________\n",
      "conv2d_30 (Conv2D)           (None, 20, 40, 32)        12832     \n",
      "_________________________________________________________________\n",
      "elu_38 (ELU)                 (None, 20, 40, 32)        0         \n",
      "_________________________________________________________________\n",
      "conv2d_31 (Conv2D)           (None, 10, 20, 64)        51264     \n",
      "_________________________________________________________________\n",
      "flatten_10 (Flatten)         (None, 12800)             0         \n",
      "_________________________________________________________________\n",
      "dropout_19 (Dropout)         (None, 12800)             0         \n",
      "_________________________________________________________________\n",
      "elu_39 (ELU)                 (None, 12800)             0         \n",
      "_________________________________________________________________\n",
      "dense_19 (Dense)             (None, 512)               6554112   \n",
      "_________________________________________________________________\n",
      "dropout_20 (Dropout)         (None, 512)               0         \n",
      "_________________________________________________________________\n",
      "elu_40 (ELU)                 (None, 512)               0         \n",
      "_________________________________________________________________\n",
      "dense_20 (Dense)             (None, 1)                 513       \n",
      "=================================================================\n",
      "Total params: 6,619,761\n",
      "Trainable params: 6,619,761\n",
      "Non-trainable params: 0\n",
      "_________________________________________________________________\n"
     ]
    }
   ],
   "source": [
    "model.summary()"
   ]
  },
  {
   "cell_type": "code",
   "execution_count": 84,
   "metadata": {
    "collapsed": true
   },
   "outputs": [],
   "source": [
    "early_stopping = EarlyStopping(monitor='val_loss', min_delta=0, \n",
    "                               patience=2, verbose=1, mode='auto')\n",
    "filepath = 'comma.{epoch:02d}-{val_loss:.2f}.hdf5'\n",
    "checkpoint = ModelCheckpoint(filepath, monitor='val_loss', verbose=1, save_best_only=True, \n",
    "                save_weights_only=False, mode='auto', period=1)"
   ]
  },
  {
   "cell_type": "code",
   "execution_count": 85,
   "metadata": {},
   "outputs": [
    {
     "name": "stdout",
     "output_type": "stream",
     "text": [
      "Epoch 1/10\n",
      "482/483 [============================>.] - ETA: 0s - loss: 0.6921Epoch 00000: val_loss improved from inf to 0.03989, saving model to comma.00-0.04.hdf5\n",
      "483/483 [==============================] - 69s - loss: 0.6907 - val_loss: 0.0399\n",
      "Epoch 2/10\n",
      "482/483 [============================>.] - ETA: 0s - loss: 0.0128Epoch 00001: val_loss improved from 0.03989 to 0.02262, saving model to comma.01-0.02.hdf5\n",
      "483/483 [==============================] - 68s - loss: 0.0128 - val_loss: 0.0226\n",
      "Epoch 3/10\n",
      "482/483 [============================>.] - ETA: 0s - loss: 0.0097Epoch 00002: val_loss did not improve\n",
      "483/483 [==============================] - 68s - loss: 0.0097 - val_loss: 0.0232\n",
      "Epoch 4/10\n",
      "482/483 [============================>.] - ETA: 0s - loss: 0.0083Epoch 00003: val_loss did not improve\n",
      "483/483 [==============================] - 68s - loss: 0.0083 - val_loss: 0.0293\n",
      "Epoch 5/10\n",
      "482/483 [============================>.] - ETA: 0s - loss: 0.0067Epoch 00004: val_loss improved from 0.02262 to 0.01389, saving model to comma.04-0.01.hdf5\n",
      "483/483 [==============================] - 69s - loss: 0.0068 - val_loss: 0.0139\n",
      "Epoch 6/10\n",
      "482/483 [============================>.] - ETA: 0s - loss: 0.0058Epoch 00005: val_loss did not improve\n",
      "483/483 [==============================] - 68s - loss: 0.0059 - val_loss: 0.0240\n",
      "Epoch 7/10\n",
      "482/483 [============================>.] - ETA: 0s - loss: 0.0049Epoch 00006: val_loss did not improve\n",
      "483/483 [==============================] - 68s - loss: 0.0049 - val_loss: 0.0170\n",
      "Epoch 8/10\n",
      "482/483 [============================>.] - ETA: 0s - loss: 0.0048Epoch 00007: val_loss did not improve\n",
      "483/483 [==============================] - 69s - loss: 0.0048 - val_loss: 0.0179\n",
      "Epoch 00007: early stopping\n"
     ]
    },
    {
     "data": {
      "text/plain": [
       "<keras.callbacks.History at 0x7f3c137fd358>"
      ]
     },
     "execution_count": 85,
     "metadata": {},
     "output_type": "execute_result"
    }
   ],
   "source": [
    "model.fit_generator(generator=train_iterator, epochs=10, \n",
    "                    validation_data=valid_iterator,\n",
    "                    steps_per_epoch=len(train_iterator), \n",
    "                    validation_steps=len(valid_iterator),\n",
    "                    callbacks=[early_stopping, checkpoint]\n",
    "                   )"
   ]
  },
  {
   "cell_type": "code",
   "execution_count": 86,
   "metadata": {
    "collapsed": true
   },
   "outputs": [],
   "source": [
    "results = model.evaluate_generator(generator=test_iterator, steps=len(test_iterator))"
   ]
  },
  {
   "cell_type": "code",
   "execution_count": 87,
   "metadata": {},
   "outputs": [
    {
     "data": {
      "text/plain": [
       "0.020940254012552593"
      ]
     },
     "execution_count": 87,
     "metadata": {},
     "output_type": "execute_result"
    }
   ],
   "source": [
    "results"
   ]
  },
  {
   "cell_type": "code",
   "execution_count": null,
   "metadata": {
    "collapsed": true
   },
   "outputs": [],
   "source": []
  }
 ],
 "metadata": {
  "kernelspec": {
   "display_name": "Python 3",
   "language": "python",
   "name": "python3"
  },
  "language_info": {
   "codemirror_mode": {
    "name": "ipython",
    "version": 3
   },
   "file_extension": ".py",
   "mimetype": "text/x-python",
   "name": "python",
   "nbconvert_exporter": "python",
   "pygments_lexer": "ipython3",
   "version": "3.5.2"
  },
  "widgets": {
   "state": {},
   "version": "1.1.2"
  }
 },
 "nbformat": 4,
 "nbformat_minor": 2
}
