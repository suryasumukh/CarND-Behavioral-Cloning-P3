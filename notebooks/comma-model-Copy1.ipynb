{
 "cells": [
  {
   "cell_type": "code",
   "execution_count": 1,
   "metadata": {},
   "outputs": [],
   "source": [
    "%load_ext autoreload\n",
    "%autoreload 2"
   ]
  },
  {
   "cell_type": "code",
   "execution_count": 2,
   "metadata": {
    "collapsed": true
   },
   "outputs": [],
   "source": [
    "%matplotlib inline\n",
    "from matplotlib import pyplot as plt\n",
    "\n",
    "from glob import glob\n",
    "import json\n",
    "import csv\n",
    "import os\n",
    "\n",
    "import cv2\n",
    "import numpy as np"
   ]
  },
  {
   "cell_type": "code",
   "execution_count": 3,
   "metadata": {},
   "outputs": [
    {
     "name": "stderr",
     "output_type": "stream",
     "text": [
      "Using TensorFlow backend.\n"
     ]
    }
   ],
   "source": [
    "from keras.models import Model, Sequential\n",
    "from keras.layers import Input, Flatten, Dense\n",
    "from keras.layers import Conv2D, MaxPooling2D\n",
    "from keras.layers import GlobalAveragePooling2D\n",
    "from keras.layers import LeakyReLU, ELU, Dropout"
   ]
  },
  {
   "cell_type": "code",
   "execution_count": 4,
   "metadata": {
    "collapsed": true
   },
   "outputs": [],
   "source": [
    "from keras.optimizers import Adam\n",
    "from keras.layers import Lambda\n",
    "from keras.callbacks import EarlyStopping, ModelCheckpoint"
   ]
  },
  {
   "cell_type": "code",
   "execution_count": 5,
   "metadata": {
    "collapsed": true
   },
   "outputs": [],
   "source": [
    "from utils import read_samples\n",
    "from utils import ImageGenerator\n",
    "from utils import CenterImageGenerator"
   ]
  },
  {
   "cell_type": "code",
   "execution_count": 6,
   "metadata": {
    "collapsed": true
   },
   "outputs": [],
   "source": [
    "from sklearn.model_selection import train_test_split"
   ]
  },
  {
   "cell_type": "code",
   "execution_count": 7,
   "metadata": {
    "collapsed": true
   },
   "outputs": [],
   "source": [
    "ROOT_DIR = os.path.join(os.getcwd(), '../')\n",
    "DATA_DIR = os.path.join(ROOT_DIR, 'data')"
   ]
  },
  {
   "cell_type": "code",
   "execution_count": 8,
   "metadata": {},
   "outputs": [
    {
     "name": "stdout",
     "output_type": "stream",
     "text": [
      "Loaded 8037 samples.\n"
     ]
    },
    {
     "data": {
      "text/plain": [
       "['center', 'left', 'right', 'steering', 'throttle', 'brake', 'speed']"
      ]
     },
     "execution_count": 8,
     "metadata": {},
     "output_type": "execute_result"
    }
   ],
   "source": [
    "samples = read_samples(DATA_DIR)\n",
    "samples.pop(0)"
   ]
  },
  {
   "cell_type": "code",
   "execution_count": 9,
   "metadata": {
    "collapsed": true
   },
   "outputs": [],
   "source": [
    "def append_path(line):\n",
    "    line[0] = os.path.join(DATA_DIR, 'sample-data', line[0].strip())\n",
    "    line[1] = os.path.join(DATA_DIR, 'sample-data', line[1].strip())\n",
    "    line[2] = os.path.join(DATA_DIR, 'sample-data', line[2].strip())\n",
    "    return line"
   ]
  },
  {
   "cell_type": "code",
   "execution_count": 10,
   "metadata": {
    "collapsed": true
   },
   "outputs": [],
   "source": [
    "samples = [append_path(line) for line in samples]"
   ]
  },
  {
   "cell_type": "code",
   "execution_count": 11,
   "metadata": {},
   "outputs": [
    {
     "data": {
      "text/plain": [
       "['/home/carnd/CarND-Behavioral-Cloning-P3/notebooks/../data/sample-data/IMG/center_2016_12_01_13_30_48_287.jpg',\n",
       " '/home/carnd/CarND-Behavioral-Cloning-P3/notebooks/../data/sample-data/IMG/left_2016_12_01_13_30_48_287.jpg',\n",
       " '/home/carnd/CarND-Behavioral-Cloning-P3/notebooks/../data/sample-data/IMG/right_2016_12_01_13_30_48_287.jpg',\n",
       " ' 0',\n",
       " ' 0',\n",
       " ' 0',\n",
       " ' 22.14829']"
      ]
     },
     "execution_count": 11,
     "metadata": {},
     "output_type": "execute_result"
    }
   ],
   "source": [
    "samples[0]"
   ]
  },
  {
   "cell_type": "code",
   "execution_count": 12,
   "metadata": {
    "collapsed": true
   },
   "outputs": [],
   "source": [
    "train_set, test_set = train_test_split(samples, test_size=0.1)\n",
    "train_set, valid_set = train_test_split(train_set, test_size=0.1)"
   ]
  },
  {
   "cell_type": "code",
   "execution_count": 13,
   "metadata": {},
   "outputs": [],
   "source": [
    "train_iterator = ImageGenerator(train_set, batch_size=128, corr=0.20)\n",
    "valid_iterator = CenterImageGenerator(valid_set, batch_size=128, gray=False)\n",
    "test_iterator = CenterImageGenerator(test_set, batch_size=128, gray=False)"
   ]
  },
  {
   "cell_type": "code",
   "execution_count": 14,
   "metadata": {
    "collapsed": true
   },
   "outputs": [],
   "source": [
    "def comma_model():\n",
    "    ch, row, col = 1, 160, 320  # camera format\n",
    "    model = Sequential()\n",
    "    model.add(Lambda(lambda x: x/127.5 - 1.,\n",
    "            input_shape=(row, col, ch),\n",
    "            output_shape=(row, col, ch)))\n",
    "    model.add(Conv2D(8, (8, 8), strides=(4, 4), padding=\"same\"))\n",
    "    model.add(ELU())\n",
    "    model.add(Conv2D(16, (5, 5), strides=(2, 2), padding=\"same\"))\n",
    "    model.add(ELU())\n",
    "    model.add(Conv2D(32, (5, 5), strides=(2, 2), padding=\"same\"))\n",
    "    model.add(Flatten())\n",
    "    model.add(Dropout(.2))\n",
    "    model.add(ELU())\n",
    "    model.add(Dense(512))\n",
    "    model.add(Dropout(.5))\n",
    "    model.add(ELU())\n",
    "    model.add(Dense(1))\n",
    "    # adam = Adam(0.001)\n",
    "    model.compile(optimizer='adam', loss=\"mse\")\n",
    "    return model"
   ]
  },
  {
   "cell_type": "code",
   "execution_count": 15,
   "metadata": {
    "collapsed": true
   },
   "outputs": [],
   "source": [
    "model = comma_model()"
   ]
  },
  {
   "cell_type": "code",
   "execution_count": 16,
   "metadata": {},
   "outputs": [
    {
     "name": "stdout",
     "output_type": "stream",
     "text": [
      "_________________________________________________________________\n",
      "Layer (type)                 Output Shape              Param #   \n",
      "=================================================================\n",
      "lambda_1 (Lambda)            (None, 160, 320, 1)       0         \n",
      "_________________________________________________________________\n",
      "conv2d_1 (Conv2D)            (None, 40, 80, 8)         520       \n",
      "_________________________________________________________________\n",
      "elu_1 (ELU)                  (None, 40, 80, 8)         0         \n",
      "_________________________________________________________________\n",
      "conv2d_2 (Conv2D)            (None, 20, 40, 16)        3216      \n",
      "_________________________________________________________________\n",
      "elu_2 (ELU)                  (None, 20, 40, 16)        0         \n",
      "_________________________________________________________________\n",
      "conv2d_3 (Conv2D)            (None, 10, 20, 32)        12832     \n",
      "_________________________________________________________________\n",
      "flatten_1 (Flatten)          (None, 6400)              0         \n",
      "_________________________________________________________________\n",
      "dropout_1 (Dropout)          (None, 6400)              0         \n",
      "_________________________________________________________________\n",
      "elu_3 (ELU)                  (None, 6400)              0         \n",
      "_________________________________________________________________\n",
      "dense_1 (Dense)              (None, 512)               3277312   \n",
      "_________________________________________________________________\n",
      "dropout_2 (Dropout)          (None, 512)               0         \n",
      "_________________________________________________________________\n",
      "elu_4 (ELU)                  (None, 512)               0         \n",
      "_________________________________________________________________\n",
      "dense_2 (Dense)              (None, 1)                 513       \n",
      "=================================================================\n",
      "Total params: 3,294,393\n",
      "Trainable params: 3,294,393\n",
      "Non-trainable params: 0\n",
      "_________________________________________________________________\n"
     ]
    }
   ],
   "source": [
    "model.summary()"
   ]
  },
  {
   "cell_type": "code",
   "execution_count": 17,
   "metadata": {
    "collapsed": true
   },
   "outputs": [],
   "source": [
    "early_stopping = EarlyStopping(monitor='val_loss', min_delta=0, \n",
    "                               patience=2, verbose=1, mode='auto')\n",
    "filepath = 'comma.{epoch:02d}-{val_loss:.2f}.hdf5'\n",
    "checkpoint = ModelCheckpoint(filepath, monitor='val_loss', verbose=1, save_best_only=True, \n",
    "                save_weights_only=False, mode='auto', period=1)"
   ]
  },
  {
   "cell_type": "code",
   "execution_count": 18,
   "metadata": {
    "scrolled": false
   },
   "outputs": [
    {
     "name": "stdout",
     "output_type": "stream",
     "text": [
      "Epoch 1/7\n",
      "305/306 [============================>.] - ETA: 0s - loss: 0.6709Epoch 00000: val_loss improved from inf to 0.03349, saving model to comma.00-0.03.hdf5\n",
      "306/306 [==============================] - 82s - loss: 0.6689 - val_loss: 0.0335\n",
      "Epoch 2/7\n",
      "305/306 [============================>.] - ETA: 0s - loss: 0.0374Epoch 00001: val_loss did not improve\n",
      "306/306 [==============================] - 75s - loss: 0.0374 - val_loss: 0.0373\n",
      "Epoch 3/7\n",
      "305/306 [============================>.] - ETA: 0s - loss: 0.0315Epoch 00002: val_loss improved from 0.03349 to 0.02867, saving model to comma.02-0.03.hdf5\n",
      "306/306 [==============================] - 75s - loss: 0.0315 - val_loss: 0.0287\n",
      "Epoch 4/7\n",
      "305/306 [============================>.] - ETA: 0s - loss: 0.0290Epoch 00003: val_loss improved from 0.02867 to 0.02530, saving model to comma.03-0.03.hdf5\n",
      "306/306 [==============================] - 75s - loss: 0.0290 - val_loss: 0.0253\n",
      "Epoch 5/7\n",
      "305/306 [============================>.] - ETA: 0s - loss: 0.0272Epoch 00004: val_loss did not improve\n",
      "306/306 [==============================] - 74s - loss: 0.0272 - val_loss: 0.0317\n",
      "Epoch 6/7\n",
      "305/306 [============================>.] - ETA: 0s - loss: 0.0260Epoch 00005: val_loss did not improve\n",
      "306/306 [==============================] - 75s - loss: 0.0260 - val_loss: 0.0260\n",
      "Epoch 7/7\n",
      "305/306 [============================>.] - ETA: 0s - loss: 0.0253Epoch 00006: val_loss improved from 0.02530 to 0.02500, saving model to comma.06-0.02.hdf5\n",
      "306/306 [==============================] - 74s - loss: 0.0253 - val_loss: 0.0250\n"
     ]
    },
    {
     "data": {
      "text/plain": [
       "<keras.callbacks.History at 0x7f4175a204a8>"
      ]
     },
     "execution_count": 18,
     "metadata": {},
     "output_type": "execute_result"
    }
   ],
   "source": [
    "model.fit_generator(generator=train_iterator, epochs=7, \n",
    "                    validation_data=valid_iterator,\n",
    "                    steps_per_epoch=len(train_iterator), \n",
    "                    validation_steps=len(valid_iterator),\n",
    "                    callbacks=[early_stopping, checkpoint]\n",
    "                   )"
   ]
  },
  {
   "cell_type": "code",
   "execution_count": 19,
   "metadata": {
    "collapsed": true
   },
   "outputs": [],
   "source": [
    "results = model.evaluate_generator(generator=test_iterator, steps=len(test_iterator))"
   ]
  },
  {
   "cell_type": "code",
   "execution_count": 20,
   "metadata": {},
   "outputs": [
    {
     "data": {
      "text/plain": [
       "0.026698518278343335"
      ]
     },
     "execution_count": 20,
     "metadata": {},
     "output_type": "execute_result"
    }
   ],
   "source": [
    "results"
   ]
  },
  {
   "cell_type": "code",
   "execution_count": null,
   "metadata": {
    "collapsed": true
   },
   "outputs": [],
   "source": [
    "def random_shear(image, steering, shear_range=200):\n",
    "    rows, cols, _ = image.shape\n",
    "    dx = np.random.randint(-shear_range, shear_range + 1)\n",
    "    random_point = [cols / 2 + dx, rows / 2]\n",
    "    pts1 = np.float32([[0, rows], [cols, rows], [cols / 2, rows / 2]])\n",
    "    pts2 = np.float32([[0, rows], [cols, rows], random_point])\n",
    "    dsteering = dx / (rows / 2) * 360 / (2 * np.pi * 25.0) / 6.0\n",
    "    M = cv2.getAffineTransform(pts1, pts2)\n",
    "    image = cv2.warpAffine(image, M, (cols, rows), borderMode=1)  \n",
    "    return image, steering + dsteering"
   ]
  },
  {
   "cell_type": "code",
   "execution_count": null,
   "metadata": {},
   "outputs": [],
   "source": [
    "test_image = samples[0][0]\n",
    "image = cv2.imread(test_image)\n",
    "image = cv2.cvtColor(image, cv2.COLOR_BGR2RGB)\n",
    "plt.imshow(image)"
   ]
  },
  {
   "cell_type": "code",
   "execution_count": null,
   "metadata": {},
   "outputs": [],
   "source": [
    "warped, wangle = random_shear(image, float(samples[0][3]))\n",
    "plt.imshow(warped)"
   ]
  },
  {
   "cell_type": "code",
   "execution_count": null,
   "metadata": {},
   "outputs": [],
   "source": [
    "wangle"
   ]
  },
  {
   "cell_type": "code",
   "execution_count": null,
   "metadata": {},
   "outputs": [],
   "source": [
    "h,w,_ = image.shape\n",
    "horizon = 2*h/5\n",
    "v_shift = np.random.randint(-h/8,h/8)\n",
    "pts1 = np.float32([[0,horizon],[w,horizon],[0,h],[w,h]])\n",
    "pts2 = np.float32([[0,horizon+v_shift],[w,horizon+v_shift],[0,h],[w,h]])\n",
    "M = cv2.getPerspectiveTransform(pts1,pts2)\n",
    "new_img = cv2.warpPerspective(image,M,(w,h), borderMode=cv2.BORDER_REPLICATE)"
   ]
  },
  {
   "cell_type": "code",
   "execution_count": null,
   "metadata": {},
   "outputs": [],
   "source": [
    "plt.imshow(new_img)"
   ]
  },
  {
   "cell_type": "code",
   "execution_count": null,
   "metadata": {},
   "outputs": [],
   "source": [
    "plt.imshow(image[70:140])"
   ]
  },
  {
   "cell_type": "code",
   "execution_count": null,
   "metadata": {},
   "outputs": [],
   "source": [
    "plt.imshow(cv2.resize(image[70:140], (32, 16), interpolation=cv2.INTER_AREA))"
   ]
  },
  {
   "cell_type": "code",
   "execution_count": null,
   "metadata": {},
   "outputs": [],
   "source": [
    "s = cv2.cvtColor(image, cv2.COLOR_RGB2HLS)[:, :, 2]\n",
    "plt.imshow(s, cmap='gray')"
   ]
  },
  {
   "cell_type": "code",
   "execution_count": null,
   "metadata": {},
   "outputs": [],
   "source": [
    "plt.imshow(s[70:140], cmap='gray')"
   ]
  },
  {
   "cell_type": "code",
   "execution_count": null,
   "metadata": {
    "collapsed": true
   },
   "outputs": [],
   "source": []
  }
 ],
 "metadata": {
  "kernelspec": {
   "display_name": "Python 3",
   "language": "python",
   "name": "python3"
  },
  "language_info": {
   "codemirror_mode": {
    "name": "ipython",
    "version": 3
   },
   "file_extension": ".py",
   "mimetype": "text/x-python",
   "name": "python",
   "nbconvert_exporter": "python",
   "pygments_lexer": "ipython3",
   "version": "3.5.2"
  },
  "widgets": {
   "state": {},
   "version": "1.1.2"
  }
 },
 "nbformat": 4,
 "nbformat_minor": 2
}
