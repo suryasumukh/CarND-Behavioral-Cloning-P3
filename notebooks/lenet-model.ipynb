{
 "cells": [
  {
   "cell_type": "code",
   "execution_count": 2,
   "metadata": {
    "collapsed": true
   },
   "outputs": [],
   "source": [
    "%matplotlib inline\n",
    "from matplotlib import pyplot as plt"
   ]
  },
  {
   "cell_type": "code",
   "execution_count": 3,
   "metadata": {
    "collapsed": true
   },
   "outputs": [],
   "source": [
    "from glob import glob\n",
    "import json\n",
    "import csv\n",
    "import os\n",
    "\n",
    "import cv2\n",
    "import numpy as np"
   ]
  },
  {
   "cell_type": "code",
   "execution_count": 4,
   "metadata": {},
   "outputs": [
    {
     "name": "stderr",
     "output_type": "stream",
     "text": [
      "Using TensorFlow backend.\n"
     ]
    }
   ],
   "source": [
    "from keras.models import Model\n",
    "from keras.layers import Input, Flatten, Dense\n",
    "from keras.layers import Conv2D, MaxPooling2D"
   ]
  },
  {
   "cell_type": "code",
   "execution_count": 5,
   "metadata": {
    "collapsed": true
   },
   "outputs": [],
   "source": [
    "ROOT_DIR = os.path.join(os.getcwd(), '../')"
   ]
  },
  {
   "cell_type": "code",
   "execution_count": 6,
   "metadata": {},
   "outputs": [
    {
     "data": {
      "text/plain": [
       "'/home/carnd/CarND-Behavioral-Cloning-P3/notebooks/../'"
      ]
     },
     "execution_count": 6,
     "metadata": {},
     "output_type": "execute_result"
    }
   ],
   "source": [
    "ROOT_DIR"
   ]
  },
  {
   "cell_type": "code",
   "execution_count": 7,
   "metadata": {
    "collapsed": true
   },
   "outputs": [],
   "source": [
    "DATA_DIR = os.path.join(ROOT_DIR, 'data')"
   ]
  },
  {
   "cell_type": "code",
   "execution_count": 8,
   "metadata": {
    "collapsed": true
   },
   "outputs": [],
   "source": [
    "RUNS_DIR = ['run1', 'run2']\n",
    "RUNS_DATA = [os.path.join(DATA_DIR, run_dir) for run_dir in RUNS_DIR]"
   ]
  },
  {
   "cell_type": "code",
   "execution_count": 9,
   "metadata": {},
   "outputs": [
    {
     "data": {
      "text/plain": [
       "['/home/carnd/CarND-Behavioral-Cloning-P3/notebooks/../data/run1',\n",
       " '/home/carnd/CarND-Behavioral-Cloning-P3/notebooks/../data/run2']"
      ]
     },
     "execution_count": 9,
     "metadata": {},
     "output_type": "execute_result"
    }
   ],
   "source": [
    "RUNS_DATA"
   ]
  },
  {
   "cell_type": "code",
   "execution_count": 10,
   "metadata": {
    "collapsed": true
   },
   "outputs": [],
   "source": [
    "def load_data():\n",
    "    images, angles = [], []\n",
    "    for rdir in RUNS_DATA:\n",
    "        log_file = os.path.join(rdir, 'driving_log.csv')\n",
    "        with open(log_file, 'r') as _fh:\n",
    "            log = csv.reader(_fh)\n",
    "            for line in log:\n",
    "                images.extend([line[0], line[1], line[2]])\n",
    "                angles.extend([float(line[3])] * 3)\n",
    "    return images, angles"
   ]
  },
  {
   "cell_type": "code",
   "execution_count": 11,
   "metadata": {
    "collapsed": true
   },
   "outputs": [],
   "source": [
    "from keras.utils import Sequence"
   ]
  },
  {
   "cell_type": "code",
   "execution_count": 12,
   "metadata": {
    "collapsed": true
   },
   "outputs": [],
   "source": [
    "images, angles = load_data()"
   ]
  },
  {
   "cell_type": "code",
   "execution_count": 13,
   "metadata": {},
   "outputs": [
    {
     "data": {
      "text/plain": [
       "39915"
      ]
     },
     "execution_count": 13,
     "metadata": {},
     "output_type": "execute_result"
    }
   ],
   "source": [
    "len(images)"
   ]
  },
  {
   "cell_type": "code",
   "execution_count": 14,
   "metadata": {},
   "outputs": [
    {
     "data": {
      "text/plain": [
       "39915"
      ]
     },
     "execution_count": 14,
     "metadata": {},
     "output_type": "execute_result"
    }
   ],
   "source": [
    "len(angles)"
   ]
  },
  {
   "cell_type": "code",
   "execution_count": 15,
   "metadata": {},
   "outputs": [
    {
     "data": {
      "text/plain": [
       "['data/run1/IMG/center_2017_11_23_19_36_54_647.jpg',\n",
       " 'data/run1/IMG/left_2017_11_23_19_36_54_647.jpg',\n",
       " 'data/run1/IMG/right_2017_11_23_19_36_54_647.jpg',\n",
       " 'data/run1/IMG/center_2017_11_23_19_36_54_716.jpg',\n",
       " 'data/run1/IMG/left_2017_11_23_19_36_54_716.jpg']"
      ]
     },
     "execution_count": 15,
     "metadata": {},
     "output_type": "execute_result"
    }
   ],
   "source": [
    "images[: 5]"
   ]
  },
  {
   "cell_type": "code",
   "execution_count": 17,
   "metadata": {},
   "outputs": [],
   "source": [
    "from sklearn.utils import shuffle\n",
    "from sklearn.model_selection import train_test_split"
   ]
  },
  {
   "cell_type": "code",
   "execution_count": 19,
   "metadata": {},
   "outputs": [],
   "source": [
    "train_images, test_images, train_angles, test_angles = \\\n",
    "train_test_split(images, angles, test_size=0.2)"
   ]
  },
  {
   "cell_type": "code",
   "execution_count": 20,
   "metadata": {
    "collapsed": true
   },
   "outputs": [],
   "source": [
    "train_images, valid_images, train_angles, valid_angles = \\\n",
    "train_test_split(train_images, train_angles, test_size=0.2)"
   ]
  },
  {
   "cell_type": "code",
   "execution_count": null,
   "metadata": {
    "collapsed": true
   },
   "outputs": [],
   "source": [
    "class DataGenerator(Sequence):\n",
    "    def __init__(self, images, angles, flip=False, gray=False, batch_sizze=32):\n",
    "        self.images = images\n",
    "        self.angles = angles\n",
    "        self.flip = flip\n",
    "        self.gray = gray\n",
    "        self.batch_size = batch_size\n",
    "        if self.flip:\n",
    "            self.batch_size = batch_size // 2\n",
    "    \n",
    "    def __len__(self):\n",
    "        return (len(self.images) + self.batch_size - 1) // self.batch_size\n",
    "    \n",
    "    def __getitem__(self, idx):\n",
    "        _batch_images = [idx: idx+self.batch_size]\n",
    "        batch_angles = [idx: idx+self.batch_size]\n",
    "        batch_images = [self.preprocess(images) for image in _batch_images]\n",
    "        return np.array([]), np.array(batch_angles)"
   ]
  }
 ],
 "metadata": {
  "kernelspec": {
   "display_name": "Python 3",
   "language": "python",
   "name": "python3"
  },
  "language_info": {
   "codemirror_mode": {
    "name": "ipython",
    "version": 3
   },
   "file_extension": ".py",
   "mimetype": "text/x-python",
   "name": "python",
   "nbconvert_exporter": "python",
   "pygments_lexer": "ipython3",
   "version": "3.5.2"
  },
  "widgets": {
   "state": {},
   "version": "1.1.2"
  }
 },
 "nbformat": 4,
 "nbformat_minor": 2
}
