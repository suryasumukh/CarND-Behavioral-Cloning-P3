{
 "cells": [
  {
   "cell_type": "code",
   "execution_count": 1,
   "metadata": {
    "collapsed": true
   },
   "outputs": [],
   "source": [
    "%load_ext autoreload\n",
    "%autoreload 2"
   ]
  },
  {
   "cell_type": "code",
   "execution_count": 2,
   "metadata": {},
   "outputs": [],
   "source": [
    "%matplotlib inline\n",
    "from matplotlib import pyplot as plt"
   ]
  },
  {
   "cell_type": "code",
   "execution_count": 3,
   "metadata": {},
   "outputs": [],
   "source": [
    "from glob import glob\n",
    "import json\n",
    "import csv\n",
    "import os\n",
    "\n",
    "import cv2\n",
    "import numpy as np"
   ]
  },
  {
   "cell_type": "code",
   "execution_count": 4,
   "metadata": {},
   "outputs": [
    {
     "name": "stderr",
     "output_type": "stream",
     "text": [
      "Using TensorFlow backend.\n"
     ]
    }
   ],
   "source": [
    "from keras.models import Model\n",
    "from keras.layers import Input, Flatten, Dense\n",
    "from keras.layers import Conv2D, MaxPooling2D"
   ]
  },
  {
   "cell_type": "code",
   "execution_count": 204,
   "metadata": {
    "collapsed": true
   },
   "outputs": [],
   "source": [
    "from keras.optimizers import Adam\n",
    "from keras.layers import Lambda\n",
    "from keras.callbacks import EarlyStopping, ModelCheckpoint"
   ]
  },
  {
   "cell_type": "code",
   "execution_count": 7,
   "metadata": {
    "collapsed": true
   },
   "outputs": [],
   "source": [
    "from utils import read_samples\n",
    "from utils import ImageGenerator\n",
    "from utils import CenterImageGenerator"
   ]
  },
  {
   "cell_type": "code",
   "execution_count": 8,
   "metadata": {
    "collapsed": true
   },
   "outputs": [],
   "source": [
    "from sklearn.model_selection import train_test_split"
   ]
  },
  {
   "cell_type": "code",
   "execution_count": 9,
   "metadata": {
    "collapsed": true
   },
   "outputs": [],
   "source": [
    "ROOT_DIR = os.path.join(os.getcwd(), '../')"
   ]
  },
  {
   "cell_type": "code",
   "execution_count": 10,
   "metadata": {
    "collapsed": true
   },
   "outputs": [],
   "source": [
    "DATA_DIR = os.path.join(ROOT_DIR, 'data')"
   ]
  },
  {
   "cell_type": "code",
   "execution_count": 11,
   "metadata": {},
   "outputs": [
    {
     "name": "stdout",
     "output_type": "stream",
     "text": [
      "Loaded 13305 samples.\n"
     ]
    }
   ],
   "source": [
    "samples = read_samples(DATA_DIR)"
   ]
  },
  {
   "cell_type": "code",
   "execution_count": 12,
   "metadata": {
    "collapsed": true
   },
   "outputs": [],
   "source": [
    "def append_path(line):\n",
    "    line[0] = os.path.join(ROOT_DIR, line[0])\n",
    "    line[1] = os.path.join(ROOT_DIR, line[1])\n",
    "    line[2] = os.path.join(ROOT_DIR, line[2])\n",
    "    return line"
   ]
  },
  {
   "cell_type": "code",
   "execution_count": 13,
   "metadata": {
    "collapsed": true
   },
   "outputs": [],
   "source": [
    "samples = [append_path(line) for line in samples]"
   ]
  },
  {
   "cell_type": "code",
   "execution_count": 14,
   "metadata": {
    "collapsed": true
   },
   "outputs": [],
   "source": [
    "train_set, test_set = train_test_split(samples, test_size=0.2)\n",
    "train_set, valid_set = train_test_split(train_set, test_size=0.2)"
   ]
  },
  {
   "cell_type": "code",
   "execution_count": 47,
   "metadata": {
    "collapsed": true
   },
   "outputs": [],
   "source": [
    "train_iterator = CenterImageGenerator(train_set, batch_size=128, flip=True, gray=True)\n",
    "valid_iterator = CenterImageGenerator(valid_set, batch_size=128, flip=True, gray=True)"
   ]
  },
  {
   "cell_type": "code",
   "execution_count": 201,
   "metadata": {
    "collapsed": true
   },
   "outputs": [],
   "source": [
    "test_iterator = CenterImageGenerator(test_set, batch_size=128, gray=True)"
   ]
  },
  {
   "cell_type": "code",
   "execution_count": 220,
   "metadata": {
    "collapsed": true
   },
   "outputs": [],
   "source": [
    "def lenet_model(input_shape):\n",
    "    _input = Input(shape=input_shape)\n",
    "    norm = Lambda(lambda x: x / 255 - 0.5)(_input)\n",
    "    conv1 = Conv2D(filters=6, kernel_size=(3, 3), strides=(1, 1), \n",
    "                   padding='valid', activation='relu')(norm)\n",
    "    pool1 = MaxPooling2D(pool_size=(2, 2), strides=(2, 2), padding='same')(conv1)\n",
    "    conv2 = Conv2D(filters=16, kernel_size=(3, 3), strides=(1, 1), \n",
    "                   padding='valid', activation='relu')(pool1)\n",
    "    pool2 = MaxPooling2D(pool_size=(2, 2), strides=(2, 2), padding='same')(conv2)\n",
    "    #conv3 = Conv2D(filters=16, kernel_size=(3, 3), strides=(1, 1), \n",
    "    #                padding='valid', activation='relu')(pool2)\n",
    "    #pool3 = MaxPooling2D(pool_size=(2, 2), strides=(2, 2), padding='same')(conv3)\n",
    "    flatten = Flatten()(pool2)\n",
    "    fc1 = Dense(120, activation='relu')(flatten)\n",
    "    fc2 = Dense(84, activation='linear')(fc1)\n",
    "    output = Dense(1, activation='linear')(fc2)\n",
    "    model = Model(inputs=[_input], outputs=[output])\n",
    "    return model"
   ]
  },
  {
   "cell_type": "code",
   "execution_count": 221,
   "metadata": {},
   "outputs": [],
   "source": [
    "adam = Adam(0.0009)\n",
    "model = lenet_model((80, 320, 1))\n",
    "model.compile(loss='mse', optimizer=adam)"
   ]
  },
  {
   "cell_type": "code",
   "execution_count": 222,
   "metadata": {
    "collapsed": true
   },
   "outputs": [],
   "source": [
    "early_stopping = EarlyStopping(monitor='val_loss', min_delta=0, \n",
    "                               patience=1, verbose=0, mode='auto')\n",
    "filepath = 'lenet.{epoch:02d}-{val_loss:.2f}.hdf5'\n",
    "checkpoint = ModelCheckpoint(filepath, monitor='val_loss', verbose=0, save_best_only=True, \n",
    "                save_weights_only=False, mode='auto', period=1)"
   ]
  },
  {
   "cell_type": "code",
   "execution_count": 223,
   "metadata": {},
   "outputs": [
    {
     "name": "stdout",
     "output_type": "stream",
     "text": [
      "Epoch 1/10\n",
      "134/134 [==============================] - 24s - loss: 0.0233 - val_loss: 0.0284\n",
      "Epoch 2/10\n",
      "134/134 [==============================] - 23s - loss: 0.0012 - val_loss: 0.0273\n",
      "Epoch 3/10\n",
      "134/134 [==============================] - 23s - loss: 0.0013 - val_loss: 0.0226\n",
      "Epoch 4/10\n",
      "134/134 [==============================] - 22s - loss: 0.0019 - val_loss: 0.0279\n",
      "Epoch 5/10\n",
      "134/134 [==============================] - 23s - loss: 0.0019 - val_loss: 0.0309\n"
     ]
    },
    {
     "data": {
      "text/plain": [
       "<keras.callbacks.History at 0x7f775e27be80>"
      ]
     },
     "execution_count": 223,
     "metadata": {},
     "output_type": "execute_result"
    }
   ],
   "source": [
    "model.fit_generator(generator=train_iterator, epochs=10, \n",
    "                    validation_data=valid_iterator,\n",
    "                    steps_per_epoch=len(train_iterator), \n",
    "                    validation_steps=len(valid_iterator),\n",
    "                    callbacks=[early_stopping, checkpoint]\n",
    "                   )"
   ]
  },
  {
   "cell_type": "code",
   "execution_count": 224,
   "metadata": {
    "collapsed": true
   },
   "outputs": [],
   "source": [
    "results = model.evaluate_generator(generator=test_iterator, steps=len(test_iterator))"
   ]
  },
  {
   "cell_type": "code",
   "execution_count": 225,
   "metadata": {},
   "outputs": [
    {
     "data": {
      "text/plain": [
       "0.016926652751863003"
      ]
     },
     "execution_count": 225,
     "metadata": {},
     "output_type": "execute_result"
    }
   ],
   "source": [
    "results"
   ]
  },
  {
   "cell_type": "code",
   "execution_count": 138,
   "metadata": {},
   "outputs": [
    {
     "name": "stdout",
     "output_type": "stream",
     "text": [
      "_________________________________________________________________\n",
      "Layer (type)                 Output Shape              Param #   \n",
      "=================================================================\n",
      "input_19 (InputLayer)        (None, 80, 320, 1)        0         \n",
      "_________________________________________________________________\n",
      "lambda_19 (Lambda)           (None, 80, 320, 1)        0         \n",
      "_________________________________________________________________\n",
      "conv2d_41 (Conv2D)           (None, 76, 316, 8)        208       \n",
      "_________________________________________________________________\n",
      "max_pooling2d_41 (MaxPooling (None, 38, 158, 8)        0         \n",
      "_________________________________________________________________\n",
      "conv2d_42 (Conv2D)           (None, 34, 154, 16)       3216      \n",
      "_________________________________________________________________\n",
      "max_pooling2d_42 (MaxPooling (None, 17, 77, 16)        0         \n",
      "_________________________________________________________________\n",
      "flatten_19 (Flatten)         (None, 20944)             0         \n",
      "_________________________________________________________________\n",
      "dense_55 (Dense)             (None, 120)               2513400   \n",
      "_________________________________________________________________\n",
      "dense_56 (Dense)             (None, 1)                 121       \n",
      "=================================================================\n",
      "Total params: 2,516,945\n",
      "Trainable params: 2,516,945\n",
      "Non-trainable params: 0\n",
      "_________________________________________________________________\n"
     ]
    }
   ],
   "source": [
    "model.summary()"
   ]
  },
  {
   "cell_type": "code",
   "execution_count": null,
   "metadata": {
    "collapsed": true
   },
   "outputs": [],
   "source": []
  }
 ],
 "metadata": {
  "anaconda-cloud": {},
  "kernelspec": {
   "display_name": "Python 3",
   "language": "python",
   "name": "python3"
  },
  "language_info": {
   "codemirror_mode": {
    "name": "ipython",
    "version": 3
   },
   "file_extension": ".py",
   "mimetype": "text/x-python",
   "name": "python",
   "nbconvert_exporter": "python",
   "pygments_lexer": "ipython3",
   "version": "3.5.2"
  },
  "widgets": {
   "state": {},
   "version": "1.1.2"
  }
 },
 "nbformat": 4,
 "nbformat_minor": 2
}
