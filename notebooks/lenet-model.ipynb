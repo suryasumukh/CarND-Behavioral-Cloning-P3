{
 "cells": [
  {
   "cell_type": "code",
   "execution_count": 1,
   "metadata": {
    "collapsed": true
   },
   "outputs": [],
   "source": [
    "%load_ext autoreload\n",
    "%autoreload 2"
   ]
  },
  {
   "cell_type": "code",
   "execution_count": 2,
   "metadata": {
    "collapsed": true
   },
   "outputs": [],
   "source": [
    "%matplotlib inline\n",
    "from matplotlib import pyplot as plt"
   ]
  },
  {
   "cell_type": "code",
   "execution_count": 3,
   "metadata": {
    "collapsed": true
   },
   "outputs": [],
   "source": [
    "from glob import glob\n",
    "import json\n",
    "import csv\n",
    "import os\n",
    "\n",
    "import cv2\n",
    "import numpy as np"
   ]
  },
  {
   "cell_type": "code",
   "execution_count": 4,
   "metadata": {},
   "outputs": [
    {
     "name": "stderr",
     "output_type": "stream",
     "text": [
      "Using TensorFlow backend.\n"
     ]
    }
   ],
   "source": [
    "from keras.models import Model\n",
    "from keras.layers import Input, Flatten, Dense\n",
    "from keras.layers import Conv2D, MaxPooling2D"
   ]
  },
  {
   "cell_type": "code",
   "execution_count": 5,
   "metadata": {
    "collapsed": true
   },
   "outputs": [],
   "source": [
    "from keras.optimizers import Adam\n",
    "from keras.layers import Lambda\n",
    "from keras.callbacks import EarlyStopping, ModelCheckpoint"
   ]
  },
  {
   "cell_type": "code",
   "execution_count": 6,
   "metadata": {
    "collapsed": true
   },
   "outputs": [],
   "source": [
    "from utils import read_samples\n",
    "from utils import ImageGenerator\n",
    "from utils import CenterImageGenerator"
   ]
  },
  {
   "cell_type": "code",
   "execution_count": 7,
   "metadata": {
    "collapsed": true
   },
   "outputs": [],
   "source": [
    "from sklearn.model_selection import train_test_split"
   ]
  },
  {
   "cell_type": "code",
   "execution_count": 8,
   "metadata": {
    "collapsed": true
   },
   "outputs": [],
   "source": [
    "ROOT_DIR = os.path.join(os.getcwd(), '../')"
   ]
  },
  {
   "cell_type": "code",
   "execution_count": 9,
   "metadata": {
    "collapsed": true
   },
   "outputs": [],
   "source": [
    "DATA_DIR = os.path.join(ROOT_DIR, 'data')"
   ]
  },
  {
   "cell_type": "code",
   "execution_count": 10,
   "metadata": {},
   "outputs": [
    {
     "name": "stdout",
     "output_type": "stream",
     "text": [
      "Loaded 13305 samples.\n"
     ]
    }
   ],
   "source": [
    "samples = read_samples(DATA_DIR)"
   ]
  },
  {
   "cell_type": "code",
   "execution_count": 11,
   "metadata": {
    "collapsed": true
   },
   "outputs": [],
   "source": [
    "def append_path(line):\n",
    "    line[0] = os.path.join(ROOT_DIR, line[0])\n",
    "    line[1] = os.path.join(ROOT_DIR, line[1])\n",
    "    line[2] = os.path.join(ROOT_DIR, line[2])\n",
    "    return line"
   ]
  },
  {
   "cell_type": "code",
   "execution_count": 12,
   "metadata": {
    "collapsed": true
   },
   "outputs": [],
   "source": [
    "samples = [append_path(line) for line in samples]"
   ]
  },
  {
   "cell_type": "code",
   "execution_count": 13,
   "metadata": {
    "collapsed": true
   },
   "outputs": [],
   "source": [
    "train_set, test_set = train_test_split(samples, test_size=0.2)\n",
    "train_set, valid_set = train_test_split(train_set, test_size=0.2)"
   ]
  },
  {
   "cell_type": "code",
   "execution_count": 22,
   "metadata": {
    "collapsed": true
   },
   "outputs": [],
   "source": [
    "train_iterator = CenterImageGenerator(train_set, batch_size=128, \n",
    "                                      flip=True, gray=True, correction=-0.0001)\n",
    "valid_iterator = CenterImageGenerator(valid_set, batch_size=128, \n",
    "                                      flip=True, gray=True, correction=-0.0001)\n",
    "test_iterator = CenterImageGenerator(test_set, batch_size=128, \n",
    "                                     gray=True, correction=0.001)"
   ]
  },
  {
   "cell_type": "code",
   "execution_count": 33,
   "metadata": {
    "collapsed": true
   },
   "outputs": [],
   "source": [
    "def lenet_model(input_shape):\n",
    "    _input = Input(shape=input_shape)\n",
    "    norm = Lambda(lambda x: x / 255 - 0.5)(_input)\n",
    "    conv1 = Conv2D(filters=8, kernel_size=(3, 3), strides=(1, 1), \n",
    "                   padding='valid', activation='relu')(norm)\n",
    "    pool1 = MaxPooling2D(pool_size=(2, 2), strides=(2, 2), padding='same')(conv1)\n",
    "    conv2 = Conv2D(filters=16, kernel_size=(3, 3), strides=(1, 1), \n",
    "                   padding='valid', activation='relu')(pool1)\n",
    "    pool2 = MaxPooling2D(pool_size=(2, 2), strides=(2, 2), padding='same')(conv2)\n",
    "    #conv3 = Conv2D(filters=16, kernel_size=(3, 3), strides=(1, 1), \n",
    "    #                padding='valid', activation='relu')(pool2)\n",
    "    #pool3 = MaxPooling2D(pool_size=(2, 2), strides=(2, 2), padding='same')(conv3)\n",
    "    flatten = Flatten()(pool2)\n",
    "    fc1 = Dense(120, activation='relu')(flatten)\n",
    "    fc2 = Dense(84, activation='linear')(fc1)\n",
    "    output = Dense(1, activation='linear')(fc2)\n",
    "    model = Model(inputs=[_input], outputs=[output])\n",
    "    return model"
   ]
  },
  {
   "cell_type": "code",
   "execution_count": 34,
   "metadata": {
    "collapsed": true
   },
   "outputs": [],
   "source": [
    "adam = Adam(0.001)\n",
    "model = lenet_model((80, 320, 1))\n",
    "model.compile(loss='mse', optimizer=adam)"
   ]
  },
  {
   "cell_type": "code",
   "execution_count": 35,
   "metadata": {
    "collapsed": true
   },
   "outputs": [],
   "source": [
    "early_stopping = EarlyStopping(monitor='val_loss', min_delta=0, \n",
    "                               patience=1, verbose=1, mode='auto')\n",
    "filepath = 'lenet.{epoch:02d}-{val_loss:.2f}.hdf5'\n",
    "checkpoint = ModelCheckpoint(filepath, monitor='val_loss', verbose=1, save_best_only=True, \n",
    "                save_weights_only=False, mode='auto', period=1)"
   ]
  },
  {
   "cell_type": "code",
   "execution_count": 36,
   "metadata": {},
   "outputs": [
    {
     "name": "stdout",
     "output_type": "stream",
     "text": [
      "Epoch 1/10\n",
      "133/134 [============================>.] - ETA: 0s - loss: 0.0543Epoch 00000: val_loss improved from inf to 0.01723, saving model to lenet.00-0.02.hdf5\n",
      "134/134 [==============================] - 26s - loss: 0.0539 - val_loss: 0.0172\n",
      "Epoch 2/10\n",
      "133/134 [============================>.] - ETA: 0s - loss: 0.0042Epoch 00001: val_loss did not improve\n",
      "134/134 [==============================] - 25s - loss: 0.0042 - val_loss: 0.0183\n",
      "Epoch 3/10\n",
      "133/134 [============================>.] - ETA: 0s - loss: 0.0027Epoch 00002: val_loss did not improve\n",
      "134/134 [==============================] - 25s - loss: 0.0027 - val_loss: 0.0222\n",
      "Epoch 00002: early stopping\n"
     ]
    },
    {
     "data": {
      "text/plain": [
       "<keras.callbacks.History at 0x7fc8a6700390>"
      ]
     },
     "execution_count": 36,
     "metadata": {},
     "output_type": "execute_result"
    }
   ],
   "source": [
    "model.fit_generator(generator=train_iterator, epochs=10, \n",
    "                    validation_data=valid_iterator,\n",
    "                    steps_per_epoch=len(train_iterator), \n",
    "                    validation_steps=len(valid_iterator),\n",
    "                    callbacks=[early_stopping, checkpoint]\n",
    "                   )"
   ]
  },
  {
   "cell_type": "code",
   "execution_count": 37,
   "metadata": {
    "collapsed": true
   },
   "outputs": [],
   "source": [
    "results = model.evaluate_generator(generator=test_iterator, steps=len(test_iterator))"
   ]
  },
  {
   "cell_type": "code",
   "execution_count": 38,
   "metadata": {},
   "outputs": [
    {
     "data": {
      "text/plain": [
       "0.019431143023428462"
      ]
     },
     "execution_count": 38,
     "metadata": {},
     "output_type": "execute_result"
    }
   ],
   "source": [
    "results"
   ]
  },
  {
   "cell_type": "code",
   "execution_count": 39,
   "metadata": {},
   "outputs": [
    {
     "name": "stdout",
     "output_type": "stream",
     "text": [
      "_________________________________________________________________\n",
      "Layer (type)                 Output Shape              Param #   \n",
      "=================================================================\n",
      "input_4 (InputLayer)         (None, 80, 320, 1)        0         \n",
      "_________________________________________________________________\n",
      "lambda_4 (Lambda)            (None, 80, 320, 1)        0         \n",
      "_________________________________________________________________\n",
      "conv2d_7 (Conv2D)            (None, 78, 318, 8)        80        \n",
      "_________________________________________________________________\n",
      "max_pooling2d_7 (MaxPooling2 (None, 39, 159, 8)        0         \n",
      "_________________________________________________________________\n",
      "conv2d_8 (Conv2D)            (None, 37, 157, 16)       1168      \n",
      "_________________________________________________________________\n",
      "max_pooling2d_8 (MaxPooling2 (None, 19, 79, 16)        0         \n",
      "_________________________________________________________________\n",
      "flatten_4 (Flatten)          (None, 24016)             0         \n",
      "_________________________________________________________________\n",
      "dense_10 (Dense)             (None, 120)               2882040   \n",
      "_________________________________________________________________\n",
      "dense_11 (Dense)             (None, 84)                10164     \n",
      "_________________________________________________________________\n",
      "dense_12 (Dense)             (None, 1)                 85        \n",
      "=================================================================\n",
      "Total params: 2,893,537\n",
      "Trainable params: 2,893,537\n",
      "Non-trainable params: 0\n",
      "_________________________________________________________________\n"
     ]
    }
   ],
   "source": [
    "model.summary()"
   ]
  },
  {
   "cell_type": "code",
   "execution_count": null,
   "metadata": {
    "collapsed": true
   },
   "outputs": [],
   "source": []
  }
 ],
 "metadata": {
  "anaconda-cloud": {},
  "kernelspec": {
   "display_name": "Python 3",
   "language": "python",
   "name": "python3"
  },
  "language_info": {
   "codemirror_mode": {
    "name": "ipython",
    "version": 3
   },
   "file_extension": ".py",
   "mimetype": "text/x-python",
   "name": "python",
   "nbconvert_exporter": "python",
   "pygments_lexer": "ipython3",
   "version": "3.5.2"
  },
  "widgets": {
   "state": {},
   "version": "1.1.2"
  }
 },
 "nbformat": 4,
 "nbformat_minor": 2
}
